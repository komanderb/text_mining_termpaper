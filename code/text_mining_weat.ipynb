{
  "nbformat": 4,
  "nbformat_minor": 0,
  "metadata": {
    "colab": {
      "name": "text_mining_weat.ipynb",
      "provenance": []
    },
    "kernelspec": {
      "name": "python3",
      "display_name": "Python 3"
    },
    "language_info": {
      "name": "python"
    }
  },
  "cells": [
    {
      "cell_type": "code",
      "execution_count": null,
      "metadata": {
        "colab": {
          "base_uri": "https://localhost:8080/"
        },
        "id": "oJ5KMyeYAxBA",
        "outputId": "647dd663-5fcd-43b5-8c47-722cac025f51"
      },
      "outputs": [
        {
          "output_type": "stream",
          "name": "stdout",
          "text": [
            "Requirement already satisfied: responsibly in /usr/local/lib/python3.7/dist-packages (0.1.3)\n",
            "Requirement already satisfied: scipy>=1.1 in /usr/local/lib/python3.7/dist-packages (from responsibly) (1.4.1)\n",
            "Requirement already satisfied: matplotlib<3,>=2.2 in /usr/local/lib/python3.7/dist-packages (from responsibly) (2.2.5)\n",
            "Requirement already satisfied: scikit-learn>=0.19 in /usr/local/lib/python3.7/dist-packages (from responsibly) (1.0.2)\n",
            "Requirement already satisfied: seaborn>=0.9 in /usr/local/lib/python3.7/dist-packages (from responsibly) (0.11.2)\n",
            "Requirement already satisfied: mlxtend<0.17,>=0.13 in /usr/local/lib/python3.7/dist-packages (from responsibly) (0.14.0)\n",
            "Requirement already satisfied: tabulate>=0.8 in /usr/local/lib/python3.7/dist-packages (from responsibly) (0.8.9)\n",
            "Requirement already satisfied: numpy>=1.15 in /usr/local/lib/python3.7/dist-packages (from responsibly) (1.21.5)\n",
            "Requirement already satisfied: gensim<3.8,>=3.7 in /usr/local/lib/python3.7/dist-packages (from responsibly) (3.7.3)\n",
            "Requirement already satisfied: pandas>=0.23 in /usr/local/lib/python3.7/dist-packages (from responsibly) (1.3.5)\n",
            "Requirement already satisfied: six>=1.10 in /usr/local/lib/python3.7/dist-packages (from responsibly) (1.15.0)\n",
            "Requirement already satisfied: tqdm>=4.24 in /usr/local/lib/python3.7/dist-packages (from responsibly) (4.63.0)\n",
            "Requirement already satisfied: click>=6.0 in /usr/local/lib/python3.7/dist-packages (from responsibly) (7.1.2)\n",
            "Requirement already satisfied: smart-open>=1.7.0 in /usr/local/lib/python3.7/dist-packages (from gensim<3.8,>=3.7->responsibly) (5.2.1)\n",
            "Requirement already satisfied: python-dateutil>=2.1 in /usr/local/lib/python3.7/dist-packages (from matplotlib<3,>=2.2->responsibly) (2.8.2)\n",
            "Requirement already satisfied: kiwisolver>=1.0.1 in /usr/local/lib/python3.7/dist-packages (from matplotlib<3,>=2.2->responsibly) (1.4.0)\n",
            "Requirement already satisfied: pyparsing!=2.0.4,!=2.1.2,!=2.1.6,>=2.0.1 in /usr/local/lib/python3.7/dist-packages (from matplotlib<3,>=2.2->responsibly) (3.0.7)\n",
            "Requirement already satisfied: pytz in /usr/local/lib/python3.7/dist-packages (from matplotlib<3,>=2.2->responsibly) (2018.9)\n",
            "Requirement already satisfied: cycler>=0.10 in /usr/local/lib/python3.7/dist-packages (from matplotlib<3,>=2.2->responsibly) (0.11.0)\n",
            "Requirement already satisfied: typing-extensions in /usr/local/lib/python3.7/dist-packages (from kiwisolver>=1.0.1->matplotlib<3,>=2.2->responsibly) (3.10.0.2)\n",
            "Requirement already satisfied: setuptools in /usr/local/lib/python3.7/dist-packages (from mlxtend<0.17,>=0.13->responsibly) (57.4.0)\n",
            "Requirement already satisfied: joblib>=0.11 in /usr/local/lib/python3.7/dist-packages (from scikit-learn>=0.19->responsibly) (1.1.0)\n",
            "Requirement already satisfied: threadpoolctl>=2.0.0 in /usr/local/lib/python3.7/dist-packages (from scikit-learn>=0.19->responsibly) (3.1.0)\n"
          ]
        }
      ],
      "source": [
        "pip install responsibly"
      ]
    },
    {
      "cell_type": "code",
      "source": [
        "import responsibly\n",
        "import pandas as pd\n",
        "import numpy as np\n",
        "import pandas as pd\n",
        "import numpy as np \n",
        "import sklearn\n",
        "import seaborn as sns\n",
        "from pathlib import Path\n",
        "import os\n",
        "import sys\n",
        "import csv\n",
        "import nltk                                                             \n",
        "from nltk.stem import SnowballStemmer                                   \n",
        "from nltk import word_tokenize                                          \n",
        "from nltk.corpus import stopwords  \n",
        "nltk.download('wordnet')\n",
        "nltk.download('omw-1.4')\n",
        "nltk.download('stopwords')"
      ],
      "metadata": {
        "colab": {
          "base_uri": "https://localhost:8080/"
        },
        "id": "-N0Jv8dcBGHD",
        "outputId": "14cc323c-0fb3-455c-9bbb-b737c505f631"
      },
      "execution_count": null,
      "outputs": [
        {
          "output_type": "stream",
          "name": "stdout",
          "text": [
            "[nltk_data] Downloading package wordnet to /root/nltk_data...\n",
            "[nltk_data]   Package wordnet is already up-to-date!\n",
            "[nltk_data] Downloading package omw-1.4 to /root/nltk_data...\n",
            "[nltk_data]   Package omw-1.4 is already up-to-date!\n",
            "[nltk_data] Downloading package stopwords to /root/nltk_data...\n",
            "[nltk_data]   Package stopwords is already up-to-date!\n"
          ]
        },
        {
          "output_type": "execute_result",
          "data": {
            "text/plain": [
              "True"
            ]
          },
          "metadata": {},
          "execution_count": 2
        }
      ]
    },
    {
      "cell_type": "code",
      "source": [
        "os.chdir('/content/drive/MyDrive/text_mining_termpaper')\n",
        "df = pd.read_csv('corpus_children.csv')"
      ],
      "metadata": {
        "id": "yo-WcpGIBZlu"
      },
      "execution_count": null,
      "outputs": []
    },
    {
      "cell_type": "code",
      "source": [
        "stopwords = nltk.corpus.stopwords.words('english')\n",
        "remove_pronouns=['he',\n",
        " 'him',\n",
        " 'his',\n",
        " 'himself',\n",
        " 'she',\n",
        " \"she's\",\n",
        " 'her',\n",
        " 'hers',\n",
        " 'herself']\n",
        "stopwords = [word for word in remove_pronouns if word not in stopwords]"
      ],
      "metadata": {
        "id": "uGms01jSB0Lo"
      },
      "execution_count": null,
      "outputs": []
    },
    {
      "cell_type": "code",
      "source": [
        "import string \n",
        "import re\n",
        "#1) Preprocess\n",
        "### Cleaning Function \n",
        "def cleaning(text):\n",
        "    # Remove Punctuation \n",
        "    clean_text=text.translate(str.maketrans('', '', string.punctuation))\n",
        "    # Remove Symbols \n",
        "    clean_text=re.sub(r'[^\\w]', ' ', clean_text)\n",
        "    # Remove Numbers\n",
        "    #clean_text=clean_text.translate(str.maketrans('', '', string.digits))\n",
        "    # Put in Lowercase \n",
        "    #clean_text=clean_text.lower()\n",
        "    # Remove StopWords\n",
        "    var=clean_text.split()\n",
        "    filtered_list=[]\n",
        "    for word in var:\n",
        "        if word not in stopwords:\n",
        "            filtered_list.append(word)\n",
        "    clean_text=\" \".join(map(str, filtered_list))\n",
        "    return clean_text\n",
        "\n",
        "\n",
        "#def stemming(text):\n",
        " #   stemming_output = ' '.join([englishStemmer.stem(w) for w in text.split()])\n",
        "  #return stemming_output \n",
        "\n",
        "#load stopwords\n",
        "df['clean_text']=[cleaning(i) for i in df['text']]"
      ],
      "metadata": {
        "id": "es2hF1SgB81z"
      },
      "execution_count": null,
      "outputs": []
    },
    {
      "cell_type": "code",
      "source": [
        "df['clean_text'][1]"
      ],
      "metadata": {
        "colab": {
          "base_uri": "https://localhost:8080/",
          "height": 122
        },
        "id": "PoKVjypmCYqF",
        "outputId": "68fea3e5-3477-497e-9328-406da18bd943"
      },
      "execution_count": null,
      "outputs": [
        {
          "output_type": "execute_result",
          "data": {
            "text/plain": [
              "'THE HUNTING OF THE SNARK an Agony in Eight Fits by Lewis Carroll THE MILLENNIUM FULCRUM EDITION 12 Inscribed to a dear Child in memory of golden summer hours and whispers of a summer sea Girt with a boyish garb for boyish task Eager she wields her spade yet loves as well Rest on a friendly knee intent to ask The tale he loves to tell Rude spirits of the seething outer strife Unmeet to read her pure and simple spright Deem if you list such hours a waste of life Empty of all delight Chat on sweet Maid and rescue from annoy Hearts that by wiser talk are unbeguiled Ah happy he who owns that tenderest joy The heartlove of a child Away fond thoughts and vex my soul no more Work claims my wakeful nights my busy days Albeit bright memories of that sunlit shore Yet haunt my dreaming gaze Contents PREFACE Fit the First THE LANDING Fit the Second THE BELLMANS SPEECH Fit the Third THE BAKERS TALE Fit the fourth THE HUNTING Fit the Fifth THE BEAVERS LESSON Fit the Sixth THE BARRISTERS DREAM Fit the Seventh THE BANKERS FATE Fit the Eighth THE VANISHING PREFACE Ifand the thing is wildly possiblethe charge of writing nonsense were ever brought against the author of this brief but instructive poem it would be based I feel convinced on the line in p4 Then the bowsprit got mixed with the rudder sometimes In view of this painful possibility I will not as I might appeal indignantly to my other writings as a proof that I am incapable of such a deed I will not as I might point to the strong moral purpose of this poem itself to the arithmetical principles so cautiously inculcated in it or to its noble teachings in Natural HistoryI will take the more prosaic course of simply explaining how it happened The Bellman who was almost morbidly sensitive about appearances used to have the bowsprit unshipped once or twice a week to be revarnished and it more than once happened when the time came for replacing it that no one on board could remember which end of the ship it belonged to They knew it was not of the slightest use to appeal to the Bellman about ithe would only refer to his Naval Code and read out in pathetic tones Admiralty Instructions which none of them had ever been able to understandso it generally ended in its being fastened on anyhow across the rudder The helmsman used to stand by with tears in his eyes he knew it was all wrong but alas Rule 42 of the Code No one shall speak to the Man at the Helm had been completed by the Bellman himself with the words and the Man at the Helm shall speak to no one So remonstrance was impossible and no steering could be done till the next varnishing day During these bewildering intervals the ship usually sailed backwards As this poem is to some extent connected with the lay of the Jabberwock let me take this opportunity of answering a question that has often been asked me how to pronounce slithy toves The i in slithy is long as in writhe and toves is pronounced so as to rhyme with groves Again the first o in borogoves is pronounced like the o in borrow I have heard people try to give it the sound of the o in worry Such is Human Perversity This also seems a fitting occasion to notice the other hard words in that poem HumptyDumptys theory of two meanings packed into one word like a portmanteau seems to me the right explanation for all For instance take the two words fuming and furious Make up your mind that you will say both words but leave it unsettled which you will first Now open your mouth and speak If your thoughts incline ever so little towards fuming you will say fumingfurious if they turn by even a hairs breadth towards furious you will say furiousfuming but if you have the rarest of gifts a perfectly balanced mind you will say frumious Supposing that when Pistol uttered the wellknown words Under which king Bezonian Speak or die Justice Shallow had felt certain that it was either William or Richard but had not been able to settle which so that he could not possibly say either name before the other can it be doubted that rather than die he would have gasped out Rilchiam Fit the First THE LANDING Just the place for a Snark the Bellman cried As he landed his crew with care Supporting each man on the top of the tide By a finger entwined in his hair Just the place for a Snark I have said it twice That alone should encourage the crew Just the place for a Snark I have said it thrice What I tell you three times is true The crew was complete it included a Boots A maker of Bonnets and Hoods A Barrister brought to arrange their disputes And a Broker to value their goods A Billiardmarker whose skill was immense Might perhaps have won more than his share But a Banker engaged at enormous expense Had the whole of their cash in his care There was also a Beaver that paced on the deck Or would sit making lace in the bow And had often the Bellman said saved them from wreck Though none of the sailors knew how There was one who was famed for the number of things He forgot when he entered the ship His umbrella his watch all his jewels and rings And the clothes he had bought for the trip He had fortytwo boxes all carefully packed With his name painted clearly on each But since he omitted to mention the fact They were all left behind on the beach The loss of his clothes hardly mattered because He had seven coats on when he came With three pairs of bootsbut the worst of it was He had wholly forgotten his name He would answer to Hi or to any loud cry Such as Fry me or Fritter my wig To Whatyoumaycallum or Whatwashisname But especially Thingumajig While for those who preferred a more forcible word He had different names from these His intimate friends called him Candleends And his enemies Toastedcheese His form is ungainlyhis intellect small So the Bellman would often remark But his courage is perfect And that after all Is the thing that one needs with a Snark He would joke with hyenas returning their stare With an impudent wag of the head And he once went a walk pawinpaw with a bear Just to keep up its spirits he said He came as a Baker but owned when too late And it drove the poor Bellman halfmad He could only bake Bridecakefor which I may state No materials were to be had The last of the crew needs especial remark Though he looked an incredible dunce He had just one ideabut that one being Snark The good Bellman engaged him at once He came as a Butcher but gravely declared When the ship had been sailing a week He could only kill Beavers The Bellman looked scared And was almost too frightened to speak But at length he explained in a tremulous tone There was only one Beaver on board And that was a tame one he had of his own Whose death would be deeply deplored The Beaver who happened to hear the remark Protested with tears in its eyes That not even the rapture of hunting the Snark Could atone for that dismal surprise It strongly advised that the Butcher should be Conveyed in a separate ship But the Bellman declared that would never agree With the plans he had made for the trip Navigation was always a difficult art Though with only one ship and one bell And he feared he must really decline for his part Undertaking another as well The Beavers best course was no doubt to procure A secondhand daggerproof coat So the Baker advised itand next to insure Its life in some Office of note This the Banker suggested and offered for hire On moderate terms or for sale Two excellent Policies one Against Fire And one Against Damage From Hail Yet still ever after that sorrowful day Whenever the Butcher was by The Beaver kept looking the opposite way And appeared unaccountably shy Fit the Second THE BELLMANS SPEECH The Bellman himself they all praised to the skies Such a carriage such ease and such grace Such solemnity too One could see he was wise The moment one looked in his face He had bought a large map representing the sea Without the least vestige of land And the crew were much pleased when they found it to be A map they could all understand Whats the good of Mercators North Poles and Equators Tropics Zones and Meridian Lines So the Bellman would cry and the crew would reply They are merely conventional signs Other maps are such shapes with their islands and capes But weve got our brave Captain to thank So the crew would protest that hes bought us the best A perfect and absolute blank This was charming no doubt but they shortly found out That the Captain they trusted so well Had only one notion for crossing the ocean And that was to tingle his bell He was thoughtful and gravebut the orders he gave Were enough to bewilder a crew When he cried Steer to starboard but keep her head larboard What on earth was the helmsman to do Then the bowsprit got mixed with the rudder sometimes A thing as the Bellman remarked That frequently happens in tropical climes When a vessel is so to speak snarked But the principal failing occurred in the sailing And the Bellman perplexed and distressed Said he had hoped at least when the wind blew due East That the ship would not travel due West But the danger was pastthey had landed at last With their boxes portmanteaus and bags Yet at first sight the crew were not pleased with the view Which consisted of chasms and crags The Bellman perceived that their spirits were low And repeated in musical tone Some jokes he had kept for a season of woe But the crew would do nothing but groan He served out some grog with a liberal hand And bade them sit down on the beach And they could not but own that their Captain looked grand As he stood and delivered his speech Friends Romans and countrymen lend me your ears They were all of them fond of quotations So they drank to his health and they gave him three cheers While he served out additional rations We have sailed many months we have sailed many weeks Four weeks to the month you may mark But never as yet tis your Captain who speaks Have we caught the least glimpse of a Snark We have sailed many weeks we have sailed many days Seven days to the week I allow But a Snark on the which we might lovingly gaze We have never beheld till now Come listen my men while I tell you again The five unmistakable marks By which you may know wheresoever you go The warranted genuine Snarks Let us take them in order The first is the taste Which is meagre and hollow but crisp Like a coat that is rather too tight in the waist With a flavour of Willothewisp Its habit of getting up late youll agree That it carries too far when I say That it frequently breakfasts at fiveoclock tea And dines on the following day The third is its slowness in taking a jest Should you happen to venture on one It will sigh like a thing that is deeply distressed And it always looks grave at a pun The fourth is its fondness for bathingmachines Which is constantly carries about And believes that they add to the beauty of scenes A sentiment open to doubt The fifth is ambition It next will be right To describe each particular batch Distinguishing those that have feathers and bite And those that have whiskers and scratch For although common Snarks do no manner of harm Yet I feel it my duty to say Some are Boojums The Bellman broke off in alarm For the Baker had fainted away Fit the Third THE BAKERS TALE They roused him with muffinsthey roused him with ice They roused him with mustard and cress They roused him with jam and judicious advice They set him conundrums to guess When at length he sat up and was able to speak His sad story he offered to tell And the Bellman cried Silence Not even a shriek And excitedly tingled his bell There was silence supreme Not a shriek not a scream Scarcely even a howl or a groan As the man they called Ho told his story of woe In an antediluvian tone My father and mother were honest though poor Skip all that cried the Bellman in haste If it once becomes dark theres no chance of a Snark We have hardly a minute to waste I skip forty years said the Baker in tears And proceed without further remark To the day when you took me aboard of your ship To help you in hunting the Snark A dear uncle of mine after whom I was named Remarked when I bade him farewell Oh skip your dear uncle the Bellman exclaimed As he angrily tingled his bell He remarked to me then said that mildest of men If your Snark be a Snark that is right Fetch it home by all meansyou may serve it with greens And its handy for striking a light You may seek it with thimblesand seek it with care You may hunt it with forks and hope You may threaten its life with a railwayshare You may charm it with smiles and soap Thats exactly the method the Bellman bold In a hasty parenthesis cried Thats exactly the way I have always been told That the capture of Snarks should be tried But oh beamish nephew beware of the day If your Snark be a Boojum For then You will softly and suddenly vanish away And never be met with again It is this it is this that oppresses my soul When I think of my uncles last words And my heart is like nothing so much as a bowl Brimming over with quivering curds It is this it is this We have had that before The Bellman indignantly said And the Baker replied Let me say it once more It is this it is this that I dread I engage with the Snarkevery night after dark In a dreamy delirious fight I serve it with greens in those shadowy scenes And I use it for striking a light But if ever I meet with a Boojum that day In a moment of this I am sure I shall softly and suddenly vanish away And the notion I cannot endure Fit the fourth THE HUNTING The Bellman looked uffish and wrinkled his brow If only youd spoken before Its excessively awkward to mention it now With the Snark so to speak at the door We should all of us grieve as you well may believe If you never were met with again But surely my man when the voyage began You might have suggested it then Its excessively awkward to mention it now As I think Ive already remarked And the man they called Hi replied with a sigh I informed you the day we embarked You may charge me with murderor want of sense We are all of us weak at times But the slightest approach to a false pretence Was never among my crimes I said it in HebrewI said it in Dutch I said it in German and Greek But I wholly forgot and it vexes me much That English is what you speak Tis a pitiful tale said the Bellman whose face Had grown longer at every word But now that youve stated the whole of your case More debate would be simply absurd The rest of my speech he explained to his men You shall hear when Ive leisure to speak it But the Snark is at hand let me tell you again Tis your glorious duty to seek it To seek it with thimbles to seek it with care To pursue it with forks and hope To threaten its life with a railwayshare To charm it with smiles and soap For the Snarks a peculiar creature that wont Be caught in a commonplace way Do all that you know and try all that you dont Not a chance must be wasted today For England expectsI forbear to proceed Tis a maxim tremendous but trite And youd best be unpacking the things that you need To rig yourselves out for the fight Then the Banker endorsed a blank cheque which he crossed And changed his loose silver for notes The Baker with care combed his whiskers and hair And shook the dust out of his coats The Boots and the Broker were sharpening a spade Each working the grindstone in turn But the Beaver went on making lace and displayed No interest in the concern Though the Barrister tried to appeal to its pride And vainly proceeded to cite A number of cases in which making laces Had been proved an infringement of right The maker of Bonnets ferociously planned A novel arrangement of bows While the Billiardmarker with quivering hand Was chalking the tip of his nose But the Butcher turned nervous and dressed himself fine With yellow kid gloves and a ruff Said he felt it exactly like going to dine Which the Bellman declared was all stuff Introduce me now theres a good fellow he said If we happen to meet it together And the Bellman sagaciously nodding his head Said That must depend on the weather The Beaver went simply galumphing about At seeing the Butcher so shy And even the Baker though stupid and stout Made an effort to wink with one eye Be a man said the Bellman in wrath as he heard The Butcher beginning to sob Should we meet with a Jubjub that desperate bird We shall need all our strength for the job Fit the Fifth THE BEAVERS LESSON They sought it with thimbles they sought it with care They pursued it with forks and hope They threatened its life with a railwayshare They charmed it with smiles and soap Then the Butcher contrived an ingenious plan For making a separate sally And had fixed on a spot unfrequented by man A dismal and desolate valley But the very same plan to the Beaver occurred It had chosen the very same place Yet neither betrayed by a sign or a word The disgust that appeared in his face Each thought he was thinking of nothing but Snark And the glorious work of the day And each tried to pretend that he did not remark That the other was going that way But the valley grew narrow and narrower still And the evening got darker and colder Till merely from nervousness not from goodwill They marched along shoulder to shoulder Then a scream shrill and high rent the shuddering sky And they knew that some danger was near The Beaver turned pale to the tip of its tail And even the Butcher felt queer He thought of his childhood left far far behind That blissful and innocent state The sound so exactly recalled to his mind A pencil that squeaks on a slate Tis the voice of the Jubjub he suddenly cried This man that they used to call Dunce As the Bellman would tell you he added with pride I have uttered that sentiment once Tis the note of the Jubjub Keep count I entreat You will find I have told it you twice Tis the song of the Jubjub The proof is complete If only Ive stated it thrice The Beaver had counted with scrupulous care Attending to every word But it fairly lost heart and outgrabe in despair When the third repetition occurred It felt that in spite of all possible pains It had somehow contrived to lose count And the only thing now was to rack its poor brains By reckoning up the amount Two added to oneif that could but be done It said with ones fingers and thumbs Recollecting with tears how in earlier years It had taken no pains with its sums The thing can be done said the Butcher I think The thing must be done I am sure The thing shall be done Bring me paper and ink The best there is time to procure The Beaver brought paper portfolio pens And ink in unfailing supplies While strange creepy creatures came out of their dens And watched them with wondering eyes So engrossed was the Butcher he heeded them not As he wrote with a pen in each hand And explained all the while in a popular style Which the Beaver could well understand Taking Three as the subject to reason about A convenient number to state We add Seven and Ten and then multiply out By One Thousand diminished by Eight The result we proceed to divide as you see By Nine Hundred and Ninety Two Then subtract Seventeen and the answer must be Exactly and perfectly true The method employed I would gladly explain While I have it so clear in my head If I had but the time and you had but the brain But much yet remains to be said In one moment Ive seen what has hitherto been Enveloped in absolute mystery And without extra charge I will give you at large A Lesson in Natural History In his genial way he proceeded to say Forgetting all laws of propriety And that giving instruction without introduction Would have caused quite a thrill in Society As to temper the Jubjubs a desperate bird Since it lives in perpetual passion Its taste in costume is entirely absurd It is ages ahead of the fashion But it knows any friend it has met once before It never will look at a bribe And in charitymeetings it stands at the door And collectsthough it does not subscribe Its flavour when cooked is more exquisite far Than mutton or oysters or eggs Some think it keeps best in an ivory jar And some in mahogany kegs You boil it in sawdust you salt it in glue You condense it with locusts and tape Still keeping one principal object in view To preserve its symmetrical shape The Butcher would gladly have talked till next day But he felt that the lesson must end And he wept with delight in attempting to say He considered the Beaver his friend While the Beaver confessed with affectionate looks More eloquent even than tears It had learned in ten minutes far more than all books Would have taught it in seventy years They returned handinhand and the Bellman unmanned For a moment with noble emotion Said This amply repays all the wearisome days We have spent on the billowy ocean Such friends as the Beaver and Butcher became Have seldom if ever been known In winter or summer twas always the same You could never meet either alone And when quarrels aroseas one frequently finds Quarrels will spite of every endeavour The song of the Jubjub recurred to their minds And cemented their friendship for ever Fit the Sixth THE BARRISTERS DREAM They sought it with thimbles they sought it with care They pursued it with forks and hope They threatened its life with a railwayshare They charmed it with smiles and soap But the Barrister weary of proving in vain That the Beavers lacemaking was wrong Fell asleep and in dreams saw the creature quite plain That his fancy had dwelt on so long He dreamed that he stood in a shadowy Court Where the Snark with a glass in its eye Dressed in gown bands and wig was defending a pig On the charge of deserting its sty The Witnesses proved without error or flaw That the sty was deserted when found And the Judge kept explaining the state of the law In a soft undercurrent of sound The indictment had never been clearly expressed And it seemed that the Snark had begun And had spoken three hours before any one guessed What the pig was supposed to have done The Jury had each formed a different view Long before the indictment was read And they all spoke at once so that none of them knew One word that the others had said You must know said the Judge but the Snark exclaimed Fudge That statute is obsolete quite Let me tell you my friends the whole question depends On an ancient manorial right In the matter of Treason the pig would appear To have aided but scarcely abetted While the charge of Insolvency fails it is clear If you grant the plea never indebted The fact of Desertion I will not dispute But its guilt as I trust is removed So far as related to the costs of this suit By the Alibi which has been proved My poor clients fate now depends on your votes Here the speaker sat down in his place And directed the Judge to refer to his notes And briefly to sum up the case But the Judge said he never had summed up before So the Snark undertook it instead And summed it so well that it came to far more Than the Witnesses ever had said When the verdict was called for the Jury declined As the word was so puzzling to spell But they ventured to hope that the Snark wouldnt mind Undertaking that duty as well So the Snark found the verdict although as it owned It was spent with the toils of the day When it said the word GUILTY the Jury all groaned And some of them fainted away Then the Snark pronounced sentence the Judge being quite Too nervous to utter a word When it rose to its feet there was silence like night And the fall of a pin might be heard Transportation for life was the sentence it gave And then to be fined forty pound The Jury all cheered though the Judge said he feared That the phrase was not legally sound But their wild exultation was suddenly checked When the jailer informed them with tears Such a sentence would have not the slightest effect As the pig had been dead for some years The Judge left the Court looking deeply disgusted But the Snark though a little aghast As the lawyer to whom the defense was entrusted Went bellowing on to the last Thus the Barrister dreamed while the bellowing seemed To grow every moment more clear Till he woke to the knell of a furious bell Which the Bellman rang close at his ear Fit the Seventh THE BANKERS FATE They sought it with thimbles they sought it with care They pursued it with forks and hope They threatened its life with a railwayshare They charmed it with smiles and soap And the Banker inspired with a courage so new It was matter for general remark Rushed madly ahead and was lost to their view In his zeal to discover the Snark But while he was seeking with thimbles and care A Bandersnatch swiftly drew nigh And grabbed at the Banker who shrieked in despair For he knew it was useless to fly He offered large discounthe offered a cheque Drawn to bearer for sevenpoundsten But the Bandersnatch merely extended its neck And grabbed at the Banker again Without rest or pausewhile those frumious jaws Went savagely snapping around He skipped and he hopped and he floundered and flopped Till fainting he fell to the ground The Bandersnatch fled as the others appeared Led on by that fearstricken yell And the Bellman remarked It is just as I feared And solemnly tolled on his bell He was black in the face and they scarcely could trace The least likeness to what he had been While so great was his fright that his waistcoat turned white A wonderful thing to be seen To the horror of all who were present that day He uprose in full evening dress And with senseless grimaces endeavoured to say What his tongue could no longer express Down he sank in a chairran his hands through his hair And chanted in mimsiest tones Words whose utter inanity proved his insanity While he rattled a couple of bones Leave him here to his fateit is getting so late The Bellman exclaimed in a fright We have lost half the day Any further delay And we shant catch a Snark before night Fit the Eighth THE VANISHING They sought it with thimbles they sought it with care They pursued it with forks and hope They threatened its life with a railwayshare They charmed it with smiles and soap They shuddered to think that the chase might fail And the Beaver excited at last Went bounding along on the tip of its tail For the daylight was nearly past There is Thingumbob shouting the Bellman said He is shouting like mad only hark He is waving his hands he is wagging his head He has certainly found a Snark They gazed in delight while the Butcher exclaimed He was always a desperate wag They beheld himtheir Bakertheir hero unnamed On the top of a neighboring crag Erect and sublime for one moment of time In the next that wild figure they saw As if stung by a spasm plunge into a chasm While they waited and listened in awe Its a Snark was the sound that first came to their ears And seemed almost too good to be true Then followed a torrent of laughter and cheers Then the ominous words Its a Boo Then silence Some fancied they heard in the air A weary and wandering sigh Then sounded like jum but the others declare It was only a breeze that went by They hunted till darkness came on but they found Not a button or feather or mark By which they could tell that they stood on the ground Where the Baker had met with the Snark In the midst of the word he was trying to say In the midst of his laughter and glee He had softly and suddenly vanished away For the Snark was a Boojum you see THE END'"
            ],
            "application/vnd.google.colaboratory.intrinsic+json": {
              "type": "string"
            }
          },
          "metadata": {},
          "execution_count": 6
        }
      ]
    },
    {
      "cell_type": "code",
      "source": [
        "df[\"book_text2\"]=[re.sub(r'[A-Z]+(?![a-z])', '', x) for x in df[\"clean_text\"]]\n",
        "df[\"book_text2\"] =[re.sub('[0-9]+', '', x) for x in df['book_text2']]\n",
        "def tokenization(text):\n",
        "    tokens = re.split(' ',text)\n",
        "    return tokens\n",
        "\n",
        "df['text_tokenized']= df['book_text2'].apply(lambda x: tokenization(x))\n",
        "\n",
        "for i in range(len(df)):\n",
        "    df[\"text_tokenized\"][i]=list(filter(None, df[\"text_tokenized\"][i]))\n",
        "    df[\"text_tokenized\"][i]=[x.lower() for x in df[\"text_tokenized\"][i]]\n",
        "    \n",
        "## lemmatize\n",
        "wnl = nltk.stem.WordNetLemmatizer()\n",
        "\n",
        "def lemmatize(s):\n",
        "\n",
        "    s = [wnl.lemmatize(word) for word in s]\n",
        "    return s\n",
        "\n",
        "df = df.assign(text_lemma = df.text_tokenized.apply(lambda x: lemmatize(x)))"
      ],
      "metadata": {
        "colab": {
          "base_uri": "https://localhost:8080/"
        },
        "id": "gZADyRNvCk9b",
        "outputId": "78c0694e-291b-4e96-e9a6-8d6a3f6d4e42"
      },
      "execution_count": null,
      "outputs": [
        {
          "output_type": "stream",
          "name": "stderr",
          "text": [
            "/usr/local/lib/python3.7/dist-packages/ipykernel_launcher.py:10: SettingWithCopyWarning: \n",
            "A value is trying to be set on a copy of a slice from a DataFrame\n",
            "\n",
            "See the caveats in the documentation: https://pandas.pydata.org/pandas-docs/stable/user_guide/indexing.html#returning-a-view-versus-a-copy\n",
            "/usr/local/lib/python3.7/dist-packages/ipykernel_launcher.py:11: SettingWithCopyWarning: \n",
            "A value is trying to be set on a copy of a slice from a DataFrame\n",
            "\n",
            "See the caveats in the documentation: https://pandas.pydata.org/pandas-docs/stable/user_guide/indexing.html#returning-a-view-versus-a-copy\n"
          ]
        }
      ]
    },
    {
      "cell_type": "markdown",
      "source": [
        "### Turning to WEAT"
      ],
      "metadata": {
        "id": "s54hs2_zD9V8"
      }
    },
    {
      "cell_type": "code",
      "source": [
        "import gensim\n",
        "## initiate simple word to vec model on our corpus //\n",
        "model_1 = gensim.models.Word2Vec(df['text_lemma'], min_count=10, size = 300) \n",
        "# in order to make it work we would have to have same dimensions as pretrained models \n",
        "# model_2 = gensim.models.Word2Vec(df['text_lemma'], min_count = 10, size = 100)"
      ],
      "metadata": {
        "id": "QysgN-PWEAt_"
      },
      "execution_count": null,
      "outputs": []
    },
    {
      "cell_type": "code",
      "source": [
        "# from the outputs below it seems like there are still numbers as tokens \n",
        "\n",
        "print(len(list(filter(lambda x: re.search('[0-9]+', x), model_1.wv.vocab))))\n",
        "# 734 words in it that are just numbers \n",
        "print(len(model_1.wv.vocab))"
      ],
      "metadata": {
        "colab": {
          "base_uri": "https://localhost:8080/"
        },
        "id": "Q8PPd9ftBTfk",
        "outputId": "08e52d1e-6402-4649-f22a-1662e7eba9ee"
      },
      "execution_count": null,
      "outputs": [
        {
          "output_type": "stream",
          "name": "stdout",
          "text": [
            "0\n",
            "42624\n"
          ]
        }
      ]
    },
    {
      "cell_type": "code",
      "source": [
        "model_1.wv.most_similar(positive = ['girl','fun'], negative = ['boy'], topn = 11)"
      ],
      "metadata": {
        "colab": {
          "base_uri": "https://localhost:8080/"
        },
        "id": "-OHjtn0044cJ",
        "outputId": "faf8513d-7983-4e7f-8d7b-a9af69947b25"
      },
      "execution_count": 122,
      "outputs": [
        {
          "output_type": "execute_result",
          "data": {
            "text/plain": [
              "[('picnic', 0.4599933624267578),\n",
              " ('lovely', 0.4369288384914398),\n",
              " ('nan', 0.4367901086807251),\n",
              " ('frolic', 0.43126538395881653),\n",
              " ('patty', 0.4189818501472473),\n",
              " ('pleasure', 0.41786789894104004),\n",
              " ('alice', 0.41560155153274536),\n",
              " ('delight', 0.38964784145355225),\n",
              " ('dolly', 0.3824576735496521),\n",
              " ('marjorie', 0.3791784346103668),\n",
              " ('doll', 0.3783453106880188)]"
            ]
          },
          "metadata": {},
          "execution_count": 122
        }
      ]
    },
    {
      "cell_type": "code",
      "source": [
        "model_1.wv.most_similar(positive=['woman'], negative = ['man'], topn=30)"
      ],
      "metadata": {
        "colab": {
          "base_uri": "https://localhost:8080/"
        },
        "id": "BYQ9JS2nExmh",
        "outputId": "ea61b3f8-0a50-4d5e-e6b7-954b4ba9e71d"
      },
      "execution_count": null,
      "outputs": [
        {
          "output_type": "execute_result",
          "data": {
            "text/plain": [
              "[('maid', 0.3941485285758972),\n",
              " ('grownup', 0.3785022795200348),\n",
              " ('prettiest', 0.3630777895450592),\n",
              " ('sobbed', 0.3578227162361145),\n",
              " ('chick', 0.3466253876686096),\n",
              " ('grandchild', 0.34631219506263733),\n",
              " ('godmother', 0.339810848236084),\n",
              " ('patchwork', 0.33530300855636597),\n",
              " ('pined', 0.3348233997821808),\n",
              " ('sweetest', 0.33475029468536377),\n",
              " ('macalister', 0.3285943269729614),\n",
              " ('stella', 0.32706218957901),\n",
              " ('weeding', 0.3267471194267273),\n",
              " ('weeping', 0.3240766227245331),\n",
              " ('governess', 0.3216884136199951),\n",
              " ('nursery', 0.3193281888961792),\n",
              " ('sewing', 0.3184463083744049),\n",
              " ('motherly', 0.3164605498313904),\n",
              " ('cunliffe', 0.3152874708175659),\n",
              " ('child', 0.31439679861068726),\n",
              " ('elspeth', 0.3139083981513977),\n",
              " ('nurse', 0.31365966796875),\n",
              " ('northbury', 0.31362438201904297),\n",
              " ('motherless', 0.31191879510879517),\n",
              " ('herself', 0.31084150075912476),\n",
              " ('blueeyed', 0.31046852469444275),\n",
              " ('bebee', 0.30940958857536316),\n",
              " ('boudoir', 0.3087642788887024),\n",
              " ('spencervale', 0.3083620071411133),\n",
              " ('jasmine', 0.3055530786514282)]"
            ]
          },
          "metadata": {},
          "execution_count": 10
        }
      ]
    },
    {
      "cell_type": "code",
      "source": [
        "fem_dic ={\"name\": \"female words\",\n",
        "          \"words\":['woman', 'she', 'her', 'herself', 'girl', \n",
        "                         'hers', 'female', 'wife']}\n",
        "male_dic={\"name\": \"male words\", \n",
        "          \"words\":['man', 'he', 'him', 'himself', 'boy','his', \n",
        "              'male', 'husband']}\n",
        "\n",
        "paper_fem = {'name': \"Paper Female Words\",\n",
        "           \"words\": [\"female\", \"woman\", \"girl\", \"sister\", \"she\", \"her\", \"hers\", \n",
        "                     \"daughter\", \"mother\", \"aunt\", \"grandmother\"]}\n",
        "\n",
        "paper_male = {'name': \"Paper Male Words\",\n",
        "              \"words\": [\"male\", \"man\", \"boy\", \"brother\", \"he\", \"him\", \"his\", \"son\", \"father\", \"uncle\", \"grandfather\"]}\n",
        "\n",
        "strong_dic = {\"name\": \"strong words\",\n",
        "              \"words\": ['power', 'strong', 'confident', 'dominant', 'potent',\n",
        "                                'command', 'assert', 'loud', 'bold', 'succeed',\n",
        "                                'triumph', 'leader', 'shout', 'winner']}\n",
        "weak_dic = {\"name\": \"weak words\",\n",
        "            \"words\": ['weak', 'surrender', 'timid', 'vulnerable', 'weakness', \n",
        "                           'wispy', 'withdraw', 'yield', 'failure', 'shy',\n",
        "                            'follow', 'lose', 'fragile', 'afraid', 'loser']}\n",
        "\n",
        "intelligence = {\"name\": \"intelligence words\", \n",
        "                \"words\": ['precocious', 'resourceful', 'inquisitive', 'genius', 'inventive', 'astute', 'adaptable', 'reflective',\n",
        "                          'discerning', 'intuitive', 'inquiring', 'judicious', 'analytical', 'apt', 'venerable', 'imaginative',\n",
        "                          'shrewd', 'thoughtful', 'wise', 'smart', 'ingenious', 'clever', 'brilliant', 'logical', 'intelligent']}\n",
        "\n",
        "appearance = {\"name\": \"appearance words\",\n",
        "              \"words\": ['alluring', 'voluptuous', 'blushing', 'homely', 'plump', 'sensual', 'gorgeous', 'slim', 'bald',\n",
        "                        'athletic', 'fashionable', 'stout', 'ugly', 'muscular', 'slender', 'feeble', 'handsome', 'healthy',\n",
        "                        'attractive', 'fat', 'weak', 'thin', 'pretty', 'beautiful', 'strong']}\n",
        "\n",
        "math = {'name': 'Math words',\n",
        "        'words': ['math', 'algebra', 'geometry', 'calculus', 'equations', 'computation', 'numbers', 'addition']}\n",
        "\n",
        "art = {'name': 'Art words', \n",
        "       'words': ['poetry', 'art', 'dance', 'literature', 'novel', 'symphony', 'drama', 'sculpture']}\n",
        "\n",
        "\n",
        "free = {'name': 'Free words',\n",
        "        'words':['choose', 'will', 'ability', 'opportunity']}\n",
        "\n",
        "unfree = {'name': 'Unfree words',\n",
        "          'words': ['responsible', 'must', 'trapped', 'limit']}\n",
        "\n",
        "\n",
        "feelings = {'name':  'Feelings',\n",
        "            'words':  ['worry', 'hurt', 'surprise', 'upset', 'tired', 'excited', 'sad', 'happy', 'delighted', 'afraid']}\n",
        "\n",
        "actions = {'name': 'Action words', \n",
        "           'words': ['run', 'jump', 'speak', 'climb', 'hunt', 'break', 'pull', 'shut', 'open', 'lift', 'power']}\n",
        "\n",
        "# physical vs emotional \n",
        "\n",
        "for i in [fem_dic, male_dic, paper_male, paper_fem, strong_dic, weak_dic, intelligence, appearance]:\n",
        "  i['words'] = [w for w in i['words'] if w in model_1.wv.vocab]\n",
        "  print(len(i['words']))"
      ],
      "metadata": {
        "colab": {
          "base_uri": "https://localhost:8080/"
        },
        "id": "jBqU6mIRFBlN",
        "outputId": "5df7c019-b640-4336-8e88-81eea9408621"
      },
      "execution_count": null,
      "outputs": [
        {
          "output_type": "stream",
          "name": "stdout",
          "text": [
            "8\n",
            "8\n",
            "11\n",
            "11\n",
            "14\n",
            "14\n",
            "24\n",
            "25\n"
          ]
        }
      ]
    },
    {
      "cell_type": "code",
      "source": [
        "'bjorn' in model_1.wv.vocab"
      ],
      "metadata": {
        "colab": {
          "base_uri": "https://localhost:8080/"
        },
        "id": "X0wWoPJh1t_f",
        "outputId": "96a3d41d-a476-4f98-df38-d10815c927cd"
      },
      "execution_count": 85,
      "outputs": [
        {
          "output_type": "execute_result",
          "data": {
            "text/plain": [
              "False"
            ]
          },
          "metadata": {},
          "execution_count": 85
        }
      ]
    },
    {
      "cell_type": "markdown",
      "source": [
        "Thats a bit annoying that the appearance vector is one longer than the intelligence so we would have to drop one "
      ],
      "metadata": {
        "id": "X1aelOT3U3Ov"
      }
    },
    {
      "cell_type": "code",
      "source": [
        "appearance['words'].remove('bald') # don't like that one anyways"
      ],
      "metadata": {
        "id": "aFbNgQwtV42h"
      },
      "execution_count": null,
      "outputs": []
    },
    {
      "cell_type": "markdown",
      "source": [
        "### Including Character names"
      ],
      "metadata": {
        "id": "ZY3ZoOgp5X2Q"
      }
    },
    {
      "cell_type": "code",
      "source": [
        "with open('male_character_names.txt') as f:\n",
        "    male_names = [line.rstrip('\\n') for line in f]\n",
        "\n",
        "with open('female_character_names.txt') as f:\n",
        "    female_names = [line.rstrip('\\n') for line in f]\n",
        "\n",
        "female_names = [w for w in female_names if w in model_1.wv.vocab]\n",
        "male_names = [w for w in male_names if w in model_1.wv.vocab]\n",
        "print(len(male_names))\n",
        "print(len(female_names))"
      ],
      "metadata": {
        "colab": {
          "base_uri": "https://localhost:8080/"
        },
        "id": "RxJe_oXB5wRE",
        "outputId": "811cab32-c00c-4055-d205-4ad273ca5f08"
      },
      "execution_count": null,
      "outputs": [
        {
          "output_type": "stream",
          "name": "stdout",
          "text": [
            "1450\n",
            "891\n"
          ]
        }
      ]
    },
    {
      "cell_type": "code",
      "source": [
        "import random\n",
        "# unfortunately we had to kill a few random boys\n",
        "def checker():\n",
        "  while len(male_names) > len(female_names):\n",
        "    male_names.remove(random.choice(male_names))\n",
        "checker()"
      ],
      "metadata": {
        "id": "EOqxtJQ65_jq"
      },
      "execution_count": null,
      "outputs": []
    },
    {
      "cell_type": "code",
      "source": [
        "fem_charac_dic ={\"name\": \"female words\",\n",
        "          \"words\":female_names}\n",
        "male_charac_dic={\"name\": \"male words\", \n",
        "          \"words\":male_names}"
      ],
      "metadata": {
        "id": "MNVj1-ih7xWr"
      },
      "execution_count": null,
      "outputs": []
    },
    {
      "cell_type": "code",
      "source": [
        "from responsibly.we.weat import calc_single_weat\n",
        "result_300 = calc_single_weat(model_1.wv, fem_dic, male_dic, strong_dic, weak_dic, with_pvalue =False) "
      ],
      "metadata": {
        "id": "G-oFpkNMIUip"
      },
      "execution_count": null,
      "outputs": []
    },
    {
      "cell_type": "code",
      "source": [
        "def get_weat(list_of_models, attribute_1, attribute_2, list_of_target_1, list_of_target_2, p = False):\n",
        "  output_list = []\n",
        "  for model in list_of_models:\n",
        "    for counter, item in enumerate(list_of_target_1):\n",
        "      result = calc_single_weat(model['model'].wv, attribute_1, attribute_2, list_of_target_1[counter], list_of_target_2[counter], with_pvalue=p)\n",
        "      # pvalue can blow up computations\n",
        "      result['name'] = model['name']\n",
        "      output_list.append(result)\n",
        "  df = pd.DataFrame(output_list)\n",
        "  return(df)\n"
      ],
      "metadata": {
        "id": "xklrKCPyZcQw"
      },
      "execution_count": null,
      "outputs": []
    },
    {
      "cell_type": "code",
      "source": [
        "import gensim.downloader\n",
        "# Show all available models in gensim-data\n",
        "print(list(gensim.downloader.info()['models'].keys()))"
      ],
      "metadata": {
        "colab": {
          "base_uri": "https://localhost:8080/"
        },
        "id": "bNFStETdKijG",
        "outputId": "f104256b-c004-4504-8ada-927782278a73"
      },
      "execution_count": null,
      "outputs": [
        {
          "output_type": "stream",
          "name": "stdout",
          "text": [
            "['fasttext-wiki-news-subwords-300', 'conceptnet-numberbatch-17-06-300', 'word2vec-ruscorpora-300', 'word2vec-google-news-300', 'glove-wiki-gigaword-50', 'glove-wiki-gigaword-100', 'glove-wiki-gigaword-200', 'glove-wiki-gigaword-300', 'glove-twitter-25', 'glove-twitter-50', 'glove-twitter-100', 'glove-twitter-200', '__testing_word2vec-matrix-synopsis']\n"
          ]
        }
      ]
    },
    {
      "cell_type": "code",
      "source": [
        "# problematic is that we might have different dimensions \n",
        "#  that might be problematic for comparing WEAT scores ? \n",
        "word_2_vec = gensim.downloader.load('word2vec-google-news-300')\n",
        "#glove_twitter100 = gensim.downloade.load('glove-twitter-100')\n",
        "resultw2v = calc_single_weat(word_2_vec.wv, fem_dic, male_dic, strong_dic, weak_dic, with_pvalue =False) \n",
        "#result_glove = calc_single_weat(glove_twitter100.wv, fem_dic, male_dic, strong_dic, weak_dic, with_pvalue =False)"
      ],
      "metadata": {
        "colab": {
          "base_uri": "https://localhost:8080/"
        },
        "id": "b_8_hZNd_Hfw",
        "outputId": "8b495f16-e92f-4b4d-eb09-f2d572f1807c"
      },
      "execution_count": null,
      "outputs": [
        {
          "output_type": "stream",
          "name": "stdout",
          "text": [
            "[==================================================] 100.0% 1662.8/1662.8MB downloaded\n"
          ]
        },
        {
          "output_type": "stream",
          "name": "stderr",
          "text": [
            "/usr/local/lib/python3.7/dist-packages/ipykernel_launcher.py:5: DeprecationWarning: Call to deprecated `wv` (Attribute will be removed in 4.0.0, use self instead).\n"
          ]
        }
      ]
    },
    {
      "cell_type": "code",
      "source": [
        "models = [{'name': \"W2v Children\", \"model\": model_1}, \n",
        "          {'name': \"W2v Google News\", \"model\": word_2_vec}]\n",
        "\n",
        "target_1 = [strong_dic, intelligence]\n",
        "target_2 = [weak_dic, appearance]\n",
        "df_1 = get_weat(models, paper_fem, paper_male, target_1, target_2, p = True)"
      ],
      "metadata": {
        "colab": {
          "base_uri": "https://localhost:8080/"
        },
        "id": "V2iyHrdPi1fY",
        "outputId": "b5ad597d-c695-477d-ca7e-9510aa2f493b"
      },
      "execution_count": null,
      "outputs": [
        {
          "output_type": "stream",
          "name": "stderr",
          "text": [
            "/usr/local/lib/python3.7/dist-packages/ipykernel_launcher.py:5: DeprecationWarning: Call to deprecated `wv` (Attribute will be removed in 4.0.0, use self instead).\n",
            "/usr/local/lib/python3.7/dist-packages/ipykernel_launcher.py:5: DeprecationWarning: Call to deprecated `wv` (Attribute will be removed in 4.0.0, use self instead).\n"
          ]
        }
      ]
    },
    {
      "cell_type": "code",
      "source": [
        "df_1"
      ],
      "metadata": {
        "colab": {
          "base_uri": "https://localhost:8080/",
          "height": 174
        },
        "id": "6-1WNPWCnAh_",
        "outputId": "69a6d51e-f91a-43c8-c007-9877c070b7ef"
      },
      "execution_count": null,
      "outputs": [
        {
          "output_type": "execute_result",
          "data": {
            "text/plain": [
              "                              Target words  \\\n",
              "0  Paper Female Words vs. Paper Male Words   \n",
              "1  Paper Female Words vs. Paper Male Words   \n",
              "2  Paper Female Words vs. Paper Male Words   \n",
              "3  Paper Female Words vs. Paper Male Words   \n",
              "\n",
              "                             Attrib. words         s         d         p  \\\n",
              "0              strong words vs. weak words -0.591275 -1.201847  0.997956   \n",
              "1  intelligence words vs. appearance words -0.543184 -1.435315  0.999860   \n",
              "2              strong words vs. weak words -0.318117 -1.270434  0.999195   \n",
              "3  intelligence words vs. appearance words -0.699952 -1.510997  0.999908   \n",
              "\n",
              "     Nt    Na             name  \n",
              "0  11x2  14x2     W2v Children  \n",
              "1  11x2  24x2     W2v Children  \n",
              "2  11x2  14x2  W2v Google News  \n",
              "3  11x2  24x2  W2v Google News  "
            ],
            "text/html": [
              "\n",
              "  <div id=\"df-ca703b26-5f88-4c44-96a7-d730fc569898\">\n",
              "    <div class=\"colab-df-container\">\n",
              "      <div>\n",
              "<style scoped>\n",
              "    .dataframe tbody tr th:only-of-type {\n",
              "        vertical-align: middle;\n",
              "    }\n",
              "\n",
              "    .dataframe tbody tr th {\n",
              "        vertical-align: top;\n",
              "    }\n",
              "\n",
              "    .dataframe thead th {\n",
              "        text-align: right;\n",
              "    }\n",
              "</style>\n",
              "<table border=\"1\" class=\"dataframe\">\n",
              "  <thead>\n",
              "    <tr style=\"text-align: right;\">\n",
              "      <th></th>\n",
              "      <th>Target words</th>\n",
              "      <th>Attrib. words</th>\n",
              "      <th>s</th>\n",
              "      <th>d</th>\n",
              "      <th>p</th>\n",
              "      <th>Nt</th>\n",
              "      <th>Na</th>\n",
              "      <th>name</th>\n",
              "    </tr>\n",
              "  </thead>\n",
              "  <tbody>\n",
              "    <tr>\n",
              "      <th>0</th>\n",
              "      <td>Paper Female Words vs. Paper Male Words</td>\n",
              "      <td>strong words vs. weak words</td>\n",
              "      <td>-0.591275</td>\n",
              "      <td>-1.201847</td>\n",
              "      <td>0.997956</td>\n",
              "      <td>11x2</td>\n",
              "      <td>14x2</td>\n",
              "      <td>W2v Children</td>\n",
              "    </tr>\n",
              "    <tr>\n",
              "      <th>1</th>\n",
              "      <td>Paper Female Words vs. Paper Male Words</td>\n",
              "      <td>intelligence words vs. appearance words</td>\n",
              "      <td>-0.543184</td>\n",
              "      <td>-1.435315</td>\n",
              "      <td>0.999860</td>\n",
              "      <td>11x2</td>\n",
              "      <td>24x2</td>\n",
              "      <td>W2v Children</td>\n",
              "    </tr>\n",
              "    <tr>\n",
              "      <th>2</th>\n",
              "      <td>Paper Female Words vs. Paper Male Words</td>\n",
              "      <td>strong words vs. weak words</td>\n",
              "      <td>-0.318117</td>\n",
              "      <td>-1.270434</td>\n",
              "      <td>0.999195</td>\n",
              "      <td>11x2</td>\n",
              "      <td>14x2</td>\n",
              "      <td>W2v Google News</td>\n",
              "    </tr>\n",
              "    <tr>\n",
              "      <th>3</th>\n",
              "      <td>Paper Female Words vs. Paper Male Words</td>\n",
              "      <td>intelligence words vs. appearance words</td>\n",
              "      <td>-0.699952</td>\n",
              "      <td>-1.510997</td>\n",
              "      <td>0.999908</td>\n",
              "      <td>11x2</td>\n",
              "      <td>24x2</td>\n",
              "      <td>W2v Google News</td>\n",
              "    </tr>\n",
              "  </tbody>\n",
              "</table>\n",
              "</div>\n",
              "      <button class=\"colab-df-convert\" onclick=\"convertToInteractive('df-ca703b26-5f88-4c44-96a7-d730fc569898')\"\n",
              "              title=\"Convert this dataframe to an interactive table.\"\n",
              "              style=\"display:none;\">\n",
              "        \n",
              "  <svg xmlns=\"http://www.w3.org/2000/svg\" height=\"24px\"viewBox=\"0 0 24 24\"\n",
              "       width=\"24px\">\n",
              "    <path d=\"M0 0h24v24H0V0z\" fill=\"none\"/>\n",
              "    <path d=\"M18.56 5.44l.94 2.06.94-2.06 2.06-.94-2.06-.94-.94-2.06-.94 2.06-2.06.94zm-11 1L8.5 8.5l.94-2.06 2.06-.94-2.06-.94L8.5 2.5l-.94 2.06-2.06.94zm10 10l.94 2.06.94-2.06 2.06-.94-2.06-.94-.94-2.06-.94 2.06-2.06.94z\"/><path d=\"M17.41 7.96l-1.37-1.37c-.4-.4-.92-.59-1.43-.59-.52 0-1.04.2-1.43.59L10.3 9.45l-7.72 7.72c-.78.78-.78 2.05 0 2.83L4 21.41c.39.39.9.59 1.41.59.51 0 1.02-.2 1.41-.59l7.78-7.78 2.81-2.81c.8-.78.8-2.07 0-2.86zM5.41 20L4 18.59l7.72-7.72 1.47 1.35L5.41 20z\"/>\n",
              "  </svg>\n",
              "      </button>\n",
              "      \n",
              "  <style>\n",
              "    .colab-df-container {\n",
              "      display:flex;\n",
              "      flex-wrap:wrap;\n",
              "      gap: 12px;\n",
              "    }\n",
              "\n",
              "    .colab-df-convert {\n",
              "      background-color: #E8F0FE;\n",
              "      border: none;\n",
              "      border-radius: 50%;\n",
              "      cursor: pointer;\n",
              "      display: none;\n",
              "      fill: #1967D2;\n",
              "      height: 32px;\n",
              "      padding: 0 0 0 0;\n",
              "      width: 32px;\n",
              "    }\n",
              "\n",
              "    .colab-df-convert:hover {\n",
              "      background-color: #E2EBFA;\n",
              "      box-shadow: 0px 1px 2px rgba(60, 64, 67, 0.3), 0px 1px 3px 1px rgba(60, 64, 67, 0.15);\n",
              "      fill: #174EA6;\n",
              "    }\n",
              "\n",
              "    [theme=dark] .colab-df-convert {\n",
              "      background-color: #3B4455;\n",
              "      fill: #D2E3FC;\n",
              "    }\n",
              "\n",
              "    [theme=dark] .colab-df-convert:hover {\n",
              "      background-color: #434B5C;\n",
              "      box-shadow: 0px 1px 3px 1px rgba(0, 0, 0, 0.15);\n",
              "      filter: drop-shadow(0px 1px 2px rgba(0, 0, 0, 0.3));\n",
              "      fill: #FFFFFF;\n",
              "    }\n",
              "  </style>\n",
              "\n",
              "      <script>\n",
              "        const buttonEl =\n",
              "          document.querySelector('#df-ca703b26-5f88-4c44-96a7-d730fc569898 button.colab-df-convert');\n",
              "        buttonEl.style.display =\n",
              "          google.colab.kernel.accessAllowed ? 'block' : 'none';\n",
              "\n",
              "        async function convertToInteractive(key) {\n",
              "          const element = document.querySelector('#df-ca703b26-5f88-4c44-96a7-d730fc569898');\n",
              "          const dataTable =\n",
              "            await google.colab.kernel.invokeFunction('convertToInteractive',\n",
              "                                                     [key], {});\n",
              "          if (!dataTable) return;\n",
              "\n",
              "          const docLinkHtml = 'Like what you see? Visit the ' +\n",
              "            '<a target=\"_blank\" href=https://colab.research.google.com/notebooks/data_table.ipynb>data table notebook</a>'\n",
              "            + ' to learn more about interactive tables.';\n",
              "          element.innerHTML = '';\n",
              "          dataTable['output_type'] = 'display_data';\n",
              "          await google.colab.output.renderOutput(dataTable, element);\n",
              "          const docLink = document.createElement('div');\n",
              "          docLink.innerHTML = docLinkHtml;\n",
              "          element.appendChild(docLink);\n",
              "        }\n",
              "      </script>\n",
              "    </div>\n",
              "  </div>\n",
              "  "
            ]
          },
          "metadata": {},
          "execution_count": 28
        }
      ]
    },
    {
      "cell_type": "code",
      "source": [
        "# for character names:\n",
        "models = [{'name': \"W2v Children\", \"model\": model_1}]\n",
        "target_1 = [strong_dic, intelligence]\n",
        "target_2 = [weak_dic, appearance]\n",
        "df_2 = get_weat(models, fem_charac_dic, male_charac_dic, target_1, target_2)\n",
        "df_2"
      ],
      "metadata": {
        "colab": {
          "base_uri": "https://localhost:8080/",
          "height": 112
        },
        "id": "e-TNYoe58Xru",
        "outputId": "567aaa24-0b35-4b43-e94c-5a1007d32157"
      },
      "execution_count": null,
      "outputs": [
        {
          "output_type": "execute_result",
          "data": {
            "text/plain": [
              "                  Target words                            Attrib. words  \\\n",
              "0  female words vs. male words              strong words vs. weak words   \n",
              "1  female words vs. male words  intelligence words vs. appearance words   \n",
              "\n",
              "           s         d     p     Nt    Na          name  \n",
              "0 -19.736778 -0.570426  None  891x2  14x2  W2v Children  \n",
              "1 -35.916262 -0.571680  None  891x2  24x2  W2v Children  "
            ],
            "text/html": [
              "\n",
              "  <div id=\"df-a7feb4df-7658-4269-80f2-f8f3540dfb7b\">\n",
              "    <div class=\"colab-df-container\">\n",
              "      <div>\n",
              "<style scoped>\n",
              "    .dataframe tbody tr th:only-of-type {\n",
              "        vertical-align: middle;\n",
              "    }\n",
              "\n",
              "    .dataframe tbody tr th {\n",
              "        vertical-align: top;\n",
              "    }\n",
              "\n",
              "    .dataframe thead th {\n",
              "        text-align: right;\n",
              "    }\n",
              "</style>\n",
              "<table border=\"1\" class=\"dataframe\">\n",
              "  <thead>\n",
              "    <tr style=\"text-align: right;\">\n",
              "      <th></th>\n",
              "      <th>Target words</th>\n",
              "      <th>Attrib. words</th>\n",
              "      <th>s</th>\n",
              "      <th>d</th>\n",
              "      <th>p</th>\n",
              "      <th>Nt</th>\n",
              "      <th>Na</th>\n",
              "      <th>name</th>\n",
              "    </tr>\n",
              "  </thead>\n",
              "  <tbody>\n",
              "    <tr>\n",
              "      <th>0</th>\n",
              "      <td>female words vs. male words</td>\n",
              "      <td>strong words vs. weak words</td>\n",
              "      <td>-19.736778</td>\n",
              "      <td>-0.570426</td>\n",
              "      <td>None</td>\n",
              "      <td>891x2</td>\n",
              "      <td>14x2</td>\n",
              "      <td>W2v Children</td>\n",
              "    </tr>\n",
              "    <tr>\n",
              "      <th>1</th>\n",
              "      <td>female words vs. male words</td>\n",
              "      <td>intelligence words vs. appearance words</td>\n",
              "      <td>-35.916262</td>\n",
              "      <td>-0.571680</td>\n",
              "      <td>None</td>\n",
              "      <td>891x2</td>\n",
              "      <td>24x2</td>\n",
              "      <td>W2v Children</td>\n",
              "    </tr>\n",
              "  </tbody>\n",
              "</table>\n",
              "</div>\n",
              "      <button class=\"colab-df-convert\" onclick=\"convertToInteractive('df-a7feb4df-7658-4269-80f2-f8f3540dfb7b')\"\n",
              "              title=\"Convert this dataframe to an interactive table.\"\n",
              "              style=\"display:none;\">\n",
              "        \n",
              "  <svg xmlns=\"http://www.w3.org/2000/svg\" height=\"24px\"viewBox=\"0 0 24 24\"\n",
              "       width=\"24px\">\n",
              "    <path d=\"M0 0h24v24H0V0z\" fill=\"none\"/>\n",
              "    <path d=\"M18.56 5.44l.94 2.06.94-2.06 2.06-.94-2.06-.94-.94-2.06-.94 2.06-2.06.94zm-11 1L8.5 8.5l.94-2.06 2.06-.94-2.06-.94L8.5 2.5l-.94 2.06-2.06.94zm10 10l.94 2.06.94-2.06 2.06-.94-2.06-.94-.94-2.06-.94 2.06-2.06.94z\"/><path d=\"M17.41 7.96l-1.37-1.37c-.4-.4-.92-.59-1.43-.59-.52 0-1.04.2-1.43.59L10.3 9.45l-7.72 7.72c-.78.78-.78 2.05 0 2.83L4 21.41c.39.39.9.59 1.41.59.51 0 1.02-.2 1.41-.59l7.78-7.78 2.81-2.81c.8-.78.8-2.07 0-2.86zM5.41 20L4 18.59l7.72-7.72 1.47 1.35L5.41 20z\"/>\n",
              "  </svg>\n",
              "      </button>\n",
              "      \n",
              "  <style>\n",
              "    .colab-df-container {\n",
              "      display:flex;\n",
              "      flex-wrap:wrap;\n",
              "      gap: 12px;\n",
              "    }\n",
              "\n",
              "    .colab-df-convert {\n",
              "      background-color: #E8F0FE;\n",
              "      border: none;\n",
              "      border-radius: 50%;\n",
              "      cursor: pointer;\n",
              "      display: none;\n",
              "      fill: #1967D2;\n",
              "      height: 32px;\n",
              "      padding: 0 0 0 0;\n",
              "      width: 32px;\n",
              "    }\n",
              "\n",
              "    .colab-df-convert:hover {\n",
              "      background-color: #E2EBFA;\n",
              "      box-shadow: 0px 1px 2px rgba(60, 64, 67, 0.3), 0px 1px 3px 1px rgba(60, 64, 67, 0.15);\n",
              "      fill: #174EA6;\n",
              "    }\n",
              "\n",
              "    [theme=dark] .colab-df-convert {\n",
              "      background-color: #3B4455;\n",
              "      fill: #D2E3FC;\n",
              "    }\n",
              "\n",
              "    [theme=dark] .colab-df-convert:hover {\n",
              "      background-color: #434B5C;\n",
              "      box-shadow: 0px 1px 3px 1px rgba(0, 0, 0, 0.15);\n",
              "      filter: drop-shadow(0px 1px 2px rgba(0, 0, 0, 0.3));\n",
              "      fill: #FFFFFF;\n",
              "    }\n",
              "  </style>\n",
              "\n",
              "      <script>\n",
              "        const buttonEl =\n",
              "          document.querySelector('#df-a7feb4df-7658-4269-80f2-f8f3540dfb7b button.colab-df-convert');\n",
              "        buttonEl.style.display =\n",
              "          google.colab.kernel.accessAllowed ? 'block' : 'none';\n",
              "\n",
              "        async function convertToInteractive(key) {\n",
              "          const element = document.querySelector('#df-a7feb4df-7658-4269-80f2-f8f3540dfb7b');\n",
              "          const dataTable =\n",
              "            await google.colab.kernel.invokeFunction('convertToInteractive',\n",
              "                                                     [key], {});\n",
              "          if (!dataTable) return;\n",
              "\n",
              "          const docLinkHtml = 'Like what you see? Visit the ' +\n",
              "            '<a target=\"_blank\" href=https://colab.research.google.com/notebooks/data_table.ipynb>data table notebook</a>'\n",
              "            + ' to learn more about interactive tables.';\n",
              "          element.innerHTML = '';\n",
              "          dataTable['output_type'] = 'display_data';\n",
              "          await google.colab.output.renderOutput(dataTable, element);\n",
              "          const docLink = document.createElement('div');\n",
              "          docLink.innerHTML = docLinkHtml;\n",
              "          element.appendChild(docLink);\n",
              "        }\n",
              "      </script>\n",
              "    </div>\n",
              "  </div>\n",
              "  "
            ]
          },
          "metadata": {},
          "execution_count": 37
        }
      ]
    },
    {
      "cell_type": "markdown",
      "source": [
        "### Improvements: \n",
        "\n",
        "Add more models -> \n",
        "\n",
        "but be aware of RAM limits -> we cannot load too many databases \n",
        "\n",
        "### Visuals:"
      ],
      "metadata": {
        "id": "1hKXdeihpKvj"
      }
    },
    {
      "cell_type": "code",
      "source": [
        "import matplotlib.pyplot as plt\n",
        "def plot_sim(model, positive_list, negative_list, title):\n",
        "  bar = model.wv.most_similar(positive = positive_list, negative = negative_list, topn = 10)\n",
        "  people = list(zip(*bar))[0][::-1]\n",
        "  score = list(zip(*bar))[1][::-1]\n",
        "  x_pos = np.arange(len(people)) \n",
        "  fig = plt.figure(figsize=(15, 10))\n",
        "  plt.barh(x_pos,width = score, align='center')\n",
        "  plt.yticks(x_pos, people) \n",
        "  plt.xlabel('Similiarity Score')\n",
        "  plt.title(title)\n",
        "  plt.show()\n",
        "  return fig\n",
        "\n",
        "fig_1 = plot_sim(model_1, ['girl', 'future'], ['boy'], 'girl + future - boy')"
      ],
      "metadata": {
        "colab": {
          "base_uri": "https://localhost:8080/",
          "height": 621
        },
        "id": "p58GQh8Wrk1K",
        "outputId": "4680c31f-e494-4c7a-c0f0-bb955c7e9417"
      },
      "execution_count": null,
      "outputs": [
        {
          "output_type": "display_data",
          "data": {
            "text/plain": [
              "<Figure size 1080x720 with 1 Axes>"
            ],
            "image/png": "[encoded data removed]"
          },
          "metadata": {
            "needs_background": "light"
          }
        }
      ]
    },
    {
      "cell_type": "code",
      "source": [
        "fig_2 = plot_sim(model_1, ['boy', 'future'], ['girl'], 'boy + future - girl')"
      ],
      "metadata": {
        "colab": {
          "base_uri": "https://localhost:8080/",
          "height": 621
        },
        "id": "rDIUsNSHSvf1",
        "outputId": "de7ae5e5-eb7c-43f1-c2a2-4cfb52a617ee"
      },
      "execution_count": null,
      "outputs": [
        {
          "output_type": "display_data",
          "data": {
            "text/plain": [
              "<Figure size 1080x720 with 1 Axes>"
            ],
            "image/png": "[encoded data removed]"
          },
          "metadata": {
            "needs_background": "light"
          }
        }
      ]
    },
    {
      "cell_type": "code",
      "source": [
        "from google.colab import files\n",
        "fig_1.savefig('example1.pdf', \n",
        "           dpi=300, bbox_inches='tight')\n",
        "fig_2.savefig('example2.pdf', dpi = 300, bbox_inches = 'tight')\n",
        "files.download(\"example1.pdf\")\n"
      ],
      "metadata": {
        "colab": {
          "base_uri": "https://localhost:8080/",
          "height": 17
        },
        "id": "I55uGiWVUXx5",
        "outputId": "c1da36b0-f5d5-42eb-a6c7-46fa2062d8e8"
      },
      "execution_count": null,
      "outputs": [
        {
          "output_type": "display_data",
          "data": {
            "text/plain": [
              "<IPython.core.display.Javascript object>"
            ],
            "application/javascript": [
              "\n",
              "    async function download(id, filename, size) {\n",
              "      if (!google.colab.kernel.accessAllowed) {\n",
              "        return;\n",
              "      }\n",
              "      const div = document.createElement('div');\n",
              "      const label = document.createElement('label');\n",
              "      label.textContent = `Downloading \"${filename}\": `;\n",
              "      div.appendChild(label);\n",
              "      const progress = document.createElement('progress');\n",
              "      progress.max = size;\n",
              "      div.appendChild(progress);\n",
              "      document.body.appendChild(div);\n",
              "\n",
              "      const buffers = [];\n",
              "      let downloaded = 0;\n",
              "\n",
              "      const channel = await google.colab.kernel.comms.open(id);\n",
              "      // Send a message to notify the kernel that we're ready.\n",
              "      channel.send({})\n",
              "\n",
              "      for await (const message of channel.messages) {\n",
              "        // Send a message to notify the kernel that we're ready.\n",
              "        channel.send({})\n",
              "        if (message.buffers) {\n",
              "          for (const buffer of message.buffers) {\n",
              "            buffers.push(buffer);\n",
              "            downloaded += buffer.byteLength;\n",
              "            progress.value = downloaded;\n",
              "          }\n",
              "        }\n",
              "      }\n",
              "      const blob = new Blob(buffers, {type: 'application/binary'});\n",
              "      const a = document.createElement('a');\n",
              "      a.href = window.URL.createObjectURL(blob);\n",
              "      a.download = filename;\n",
              "      div.appendChild(a);\n",
              "      a.click();\n",
              "      div.remove();\n",
              "    }\n",
              "  "
            ]
          },
          "metadata": {}
        },
        {
          "output_type": "display_data",
          "data": {
            "text/plain": [
              "<IPython.core.display.Javascript object>"
            ],
            "application/javascript": [
              "download(\"download_48e5c8ab-69a1-4ffb-b694-e6b7fc0c1c59\", \"example1.pdf\", 13213)"
            ]
          },
          "metadata": {}
        },
        {
          "output_type": "display_data",
          "data": {
            "text/plain": [
              "<IPython.core.display.Javascript object>"
            ],
            "application/javascript": [
              "\n",
              "    async function download(id, filename, size) {\n",
              "      if (!google.colab.kernel.accessAllowed) {\n",
              "        return;\n",
              "      }\n",
              "      const div = document.createElement('div');\n",
              "      const label = document.createElement('label');\n",
              "      label.textContent = `Downloading \"${filename}\": `;\n",
              "      div.appendChild(label);\n",
              "      const progress = document.createElement('progress');\n",
              "      progress.max = size;\n",
              "      div.appendChild(progress);\n",
              "      document.body.appendChild(div);\n",
              "\n",
              "      const buffers = [];\n",
              "      let downloaded = 0;\n",
              "\n",
              "      const channel = await google.colab.kernel.comms.open(id);\n",
              "      // Send a message to notify the kernel that we're ready.\n",
              "      channel.send({})\n",
              "\n",
              "      for await (const message of channel.messages) {\n",
              "        // Send a message to notify the kernel that we're ready.\n",
              "        channel.send({})\n",
              "        if (message.buffers) {\n",
              "          for (const buffer of message.buffers) {\n",
              "            buffers.push(buffer);\n",
              "            downloaded += buffer.byteLength;\n",
              "            progress.value = downloaded;\n",
              "          }\n",
              "        }\n",
              "      }\n",
              "      const blob = new Blob(buffers, {type: 'application/binary'});\n",
              "      const a = document.createElement('a');\n",
              "      a.href = window.URL.createObjectURL(blob);\n",
              "      a.download = filename;\n",
              "      div.appendChild(a);\n",
              "      a.click();\n",
              "      div.remove();\n",
              "    }\n",
              "  "
            ]
          },
          "metadata": {}
        },
        {
          "output_type": "display_data",
          "data": {
            "text/plain": [
              "<IPython.core.display.Javascript object>"
            ],
            "application/javascript": [
              "download(\"download_a3abd47b-19af-487b-93f7-7c217ac107b7\", \"example2.pdf\", 12749)"
            ]
          },
          "metadata": {}
        }
      ]
    },
    {
      "cell_type": "code",
      "source": [
        "files.download('example2.pdf') "
      ],
      "metadata": {
        "colab": {
          "base_uri": "https://localhost:8080/",
          "height": 17
        },
        "id": "31Z9TXc8VGI1",
        "outputId": "ecf82880-dc2f-4a42-d354-2f779dbff790"
      },
      "execution_count": null,
      "outputs": [
        {
          "output_type": "display_data",
          "data": {
            "text/plain": [
              "<IPython.core.display.Javascript object>"
            ],
            "application/javascript": [
              "\n",
              "    async function download(id, filename, size) {\n",
              "      if (!google.colab.kernel.accessAllowed) {\n",
              "        return;\n",
              "      }\n",
              "      const div = document.createElement('div');\n",
              "      const label = document.createElement('label');\n",
              "      label.textContent = `Downloading \"${filename}\": `;\n",
              "      div.appendChild(label);\n",
              "      const progress = document.createElement('progress');\n",
              "      progress.max = size;\n",
              "      div.appendChild(progress);\n",
              "      document.body.appendChild(div);\n",
              "\n",
              "      const buffers = [];\n",
              "      let downloaded = 0;\n",
              "\n",
              "      const channel = await google.colab.kernel.comms.open(id);\n",
              "      // Send a message to notify the kernel that we're ready.\n",
              "      channel.send({})\n",
              "\n",
              "      for await (const message of channel.messages) {\n",
              "        // Send a message to notify the kernel that we're ready.\n",
              "        channel.send({})\n",
              "        if (message.buffers) {\n",
              "          for (const buffer of message.buffers) {\n",
              "            buffers.push(buffer);\n",
              "            downloaded += buffer.byteLength;\n",
              "            progress.value = downloaded;\n",
              "          }\n",
              "        }\n",
              "      }\n",
              "      const blob = new Blob(buffers, {type: 'application/binary'});\n",
              "      const a = document.createElement('a');\n",
              "      a.href = window.URL.createObjectURL(blob);\n",
              "      a.download = filename;\n",
              "      div.appendChild(a);\n",
              "      a.click();\n",
              "      div.remove();\n",
              "    }\n",
              "  "
            ]
          },
          "metadata": {}
        },
        {
          "output_type": "display_data",
          "data": {
            "text/plain": [
              "<IPython.core.display.Javascript object>"
            ],
            "application/javascript": [
              "download(\"download_fc1d5c1a-a31c-44e7-8f15-f0e4d3ce789a\", \"example2.pdf\", 12749)"
            ]
          },
          "metadata": {}
        }
      ]
    },
    {
      "cell_type": "code",
      "source": [
        "model_1.wv.most_similar(fem_dic['words'])"
      ],
      "metadata": {
        "colab": {
          "base_uri": "https://localhost:8080/"
        },
        "id": "uXlv-cE_s87y",
        "outputId": "240cf3f3-10b5-44ed-ae00-3f5230bd982b"
      },
      "execution_count": null,
      "outputs": [
        {
          "output_type": "execute_result",
          "data": {
            "text/plain": [
              "[('nurse', 0.7033370137214661),\n",
              " ('matron', 0.6511642336845398),\n",
              " ('maid', 0.6470834016799927),\n",
              " ('widow', 0.6240327954292297),\n",
              " ('lady', 0.6236170530319214),\n",
              " ('child', 0.6215037107467651),\n",
              " ('elsie', 0.6110672354698181),\n",
              " ('rebecca', 0.5930606126785278),\n",
              " ('princess', 0.5925793051719666),\n",
              " ('maiden', 0.5925127267837524)]"
            ]
          },
          "metadata": {},
          "execution_count": 48
        }
      ]
    },
    {
      "cell_type": "markdown",
      "source": [
        "What else could be visualized?"
      ],
      "metadata": {
        "id": "DpoAq0SY4j5c"
      }
    }
  ]
}